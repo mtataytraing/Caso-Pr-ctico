{
 "cells": [
  {
   "cell_type": "code",
   "execution_count": 3,
   "metadata": {},
   "outputs": [],
   "source": [
    "import os\n",
    " \n",
    "def leer_csv_con_os(nombre_archivo):\n",
    "    # Verificar si el archivo existe\n",
    "    if os.path.exists(nombre_archivo):\n",
    "        with open(nombre_archivo, mode='r', encoding='utf-8') as archivo:\n",
    "            # Leer las líneas del archivo\n",
    "            lineas = archivo.readlines()\n",
    "        # Convertir cada línea en una lista de valores (se asume que el separador es coma)\n",
    "        datos = [linea.strip().split(',') for linea in lineas]\n",
    "        return datos\n",
    "    else:\n",
    "        print(f\"El archivo {nombre_archivo} no existe.\")\n",
    "        return []\n",
    " \n",
    "# Llamar a la función\n",
    "nombre_archivo = '/home/azureuser/cloudfiles/code/Users/mtataytraining/Caso-Pr-ctico/Data/Caracteristicas_Equipos.csv'\n",
    "contenido = leer_csv_con_os(nombre_archivo)\n"
   ]
  },
  {
   "cell_type": "code",
   "execution_count": 6,
   "metadata": {},
   "outputs": [],
   "source": [
    "# Llamar a la función\n",
    "nombre_archivo = '/home/azureuser/cloudfiles/code/Users/mtataytraining/Caso-Pr-ctico/Data/Caracteristicas_Equipos.csv'\n",
    "caracteristicas_equipos = leer_csv_con_os(nombre_archivo)\n",
    "nombre_archivo = '/home/azureuser/cloudfiles/code/Users/mtataytraining/Caso-Pr-ctico/Data/Historicos_Ordenes.csv'\n",
    "historicos_ordenes = leer_csv_con_os(nombre_archivo)\n",
    "nombre_archivo = '/home/azureuser/cloudfiles/code/Users/mtataytraining/Caso-Pr-ctico/Data/Registros_Condiciones.csv'\n",
    "registros_condiciones=leer_csv_con_os(nombre_archivo)\n"
   ]
  },
  {
   "cell_type": "code",
   "execution_count": 8,
   "metadata": {},
   "outputs": [
    {
     "name": "stdout",
     "output_type": "stream",
     "text": [
      "21\n",
      "10001\n",
      "9001\n"
     ]
    }
   ],
   "source": [
    "print(len(caracteristicas_equipos))\n",
    "print(len(historicos_ordenes))\n",
    "print(len(registros_condiciones))"
   ]
  },
  {
   "cell_type": "code",
   "execution_count": 1,
   "metadata": {},
   "outputs": [
    {
     "ename": "SyntaxError",
     "evalue": "invalid syntax (2300601074.py, line 1)",
     "output_type": "error",
     "traceback": [
      "\u001b[0;36m  Cell \u001b[0;32mIn[1], line 1\u001b[0;36m\u001b[0m\n\u001b[0;31m    Contar el número total de órdenes de mantenimiento realizadas para cada equipo (ID_Equipo).\u001b[0m\n\u001b[0m           ^\u001b[0m\n\u001b[0;31mSyntaxError\u001b[0m\u001b[0;31m:\u001b[0m invalid syntax\n"
     ]
    }
   ],
   "source": [
    "Contar el número total de órdenes de mantenimiento realizadas para cada equipo (ID_Equipo).\n",
    "   # Contar el número total de órdenes de mantenimiento realizadas para cada equipo (ID_Equipo)\n",
    "    conteo_ordenes = df['ID_Equipo'].value_counts()\n",
    "    return conteo_ordenes\n",
    "\n",
    "# Llamar a la función y mostrar el resultado\n",
    "conteo_ordenes = contar_ordenes_por_equipo(df)\n",
    "print(conteo_ordenes)"
   ]
  }
 ],
 "metadata": {
  "kernelspec": {
   "display_name": "Python 3.8 - AzureML",
   "language": "python",
   "name": "python38-azureml"
  },
  "language_info": {
   "codemirror_mode": {
    "name": "ipython",
    "version": 3
   },
   "file_extension": ".py",
   "mimetype": "text/x-python",
   "name": "python",
   "nbconvert_exporter": "python",
   "pygments_lexer": "ipython3",
   "version": "3.10.11"
  }
 },
 "nbformat": 4,
 "nbformat_minor": 2
}
