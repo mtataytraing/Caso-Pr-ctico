{
 "cells": [
  {
   "cell_type": "code",
   "execution_count": 3,
   "metadata": {},
   "outputs": [],
   "source": [
    "import os\n",
    " \n",
    "def leer_csv_con_os(nombre_archivo):\n",
    "    # Verificar si el archivo existe\n",
    "    if os.path.exists(nombre_archivo):\n",
    "        with open(nombre_archivo, mode='r', encoding='utf-8') as archivo:\n",
    "            # Leer las líneas del archivo\n",
    "            lineas = archivo.readlines()\n",
    "        # Convertir cada línea en una lista de valores (se asume que el separador es coma)\n",
    "        datos = [linea.strip().split(',') for linea in lineas]\n",
    "        return datos\n",
    "    else:\n",
    "        print(f\"El archivo {nombre_archivo} no existe.\")\n",
    "        return []\n",
    " \n",
    "# Llamar a la función\n",
    "nombre_archivo = '/home/azureuser/cloudfiles/code/Users/mtataytraining/Caso-Pr-ctico/Data/Caracteristicas_Equipos.csv'\n",
    "contenido = leer_csv_con_os(nombre_archivo)\n"
   ]
  },
  {
   "cell_type": "code",
   "execution_count": 4,
   "metadata": {},
   "outputs": [],
   "source": [
    "# Llamar a la función\n",
    "nombre_archivo = '/home/azureuser/cloudfiles/code/Users/mtataytraining/Caso-Pr-ctico/Data/Caracteristicas_Equipos.csv'\n",
    "caracteristicas_equipos = leer_csv_con_os(nombre_archivo)\n",
    "nombre_archivo = '/home/azureuser/cloudfiles/code/Users/mtataytraining/Caso-Pr-ctico/Data/Historicos_Ordenes.csv'\n",
    "historicos_ordenes = leer_csv_con_os(nombre_archivo)\n",
    "nombre_archivo = '/home/azureuser/cloudfiles/code/Users/mtataytraining/Caso-Pr-ctico/Data/Registros_Condiciones.csv'\n",
    "registros_condiciones=leer_csv_con_os(nombre_archivo)\n"
   ]
  },
  {
   "cell_type": "code",
   "execution_count": 5,
   "metadata": {},
   "outputs": [
    {
     "name": "stdout",
     "output_type": "stream",
     "text": [
      "21\n",
      "10001\n",
      "9001\n"
     ]
    }
   ],
   "source": [
    "print(len(caracteristicas_equipos))\n",
    "print(len(historicos_ordenes))\n",
    "print(len(registros_condiciones))"
   ]
  },
  {
   "cell_type": "code",
   "execution_count": 6,
   "metadata": {},
   "outputs": [
    {
     "name": "stdout",
     "output_type": "stream",
     "text": [
      "{'ID_Equipo': 1, 'E016': 478, 'E006': 473, 'E013': 496, 'E018': 498, 'E004': 539, 'E011': 483, 'E019': 516, 'E002': 485, 'E012': 470, 'E008': 531, 'E005': 502, 'E017': 532, 'E009': 507, 'E010': 537, 'E014': 464, 'E003': 506, 'E015': 495, 'E020': 516, 'E001': 487, 'E007': 485}\n"
     ]
    }
   ],
   "source": [
    "def contar_ordenes_por_equipo(data):\n",
    "    conteo = {}\n",
    "    for item in data:\n",
    "        equipo = item[1]\n",
    "        if equipo in conteo:\n",
    "            conteo[equipo] += 1\n",
    "        else:\n",
    "            conteo[equipo] = 1\n",
    "    return conteo\n",
    "\n",
    "conteo=contar_ordenes_por_equipo(historicos_ordenes)\n",
    "print(conteo)\n",
    "\n",
    "#hola\n",
    "#hhh\n",
    "\n",
    "\n"
   ]
  }
 ],
 "metadata": {
  "kernelspec": {
   "display_name": "Python 3.8 - AzureML",
   "language": "python",
   "name": "python38-azureml"
  }
 },
 "nbformat": 4,
 "nbformat_minor": 2
}
